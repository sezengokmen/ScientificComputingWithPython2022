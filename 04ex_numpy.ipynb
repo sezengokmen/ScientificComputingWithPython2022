{
 "cells": [
  {
   "cell_type": "markdown",
   "metadata": {},
   "source": [
    "1\\. **Reductions**\n",
    "\n",
    "Find the total mean, and the mean for each row and column of the following matrix:\n",
    "\n",
    "```python\n",
    "m = np.arange(12).reshape((3,4))\n",
    "```"
   ]
  },
  {
   "cell_type": "code",
   "execution_count": 2,
   "metadata": {},
   "outputs": [
    {
     "name": "stdout",
     "output_type": "stream",
     "text": [
      "[[ 0  1  2  3]\n",
      " [ 4  5  6  7]\n",
      " [ 8  9 10 11]]\n",
      "5.5\n",
      "[4. 5. 6. 7.]\n",
      "[1.5 5.5 9.5]\n"
     ]
    }
   ],
   "source": [
    "import numpy as np\n",
    "#4.1\n",
    "m = np.arange(12).reshape((3,4))\n",
    "print(m)\n",
    "print(m.mean())\n",
    "print(m.mean(0))\n",
    "print(m.mean(1))"
   ]
  },
  {
   "cell_type": "markdown",
   "metadata": {},
   "source": [
    "2\\. **Outer product**\n",
    "\n",
    "Find the outer product of the following vectors:\n",
    "\n",
    "```python\n",
    "u = np.array([1, 3, 5, 7])\n",
    "v = np.array([2, 4, 6, 8])\n",
    "```\n",
    "\n",
    "Use different methods to do this:\n",
    "\n",
    "   1. Using the function `outer` in numpy\n",
    "   2. Using a nested `for` loop or a list comprehension\n",
    "   3. Using numpy broadcasting operations"
   ]
  },
  {
   "cell_type": "code",
   "execution_count": 3,
   "metadata": {},
   "outputs": [
    {
     "name": "stdout",
     "output_type": "stream",
     "text": [
      "[1 3 5 7]\n",
      "[2 4 6 8]\n",
      " outerproduct solution:\n",
      " [[ 2  4  6  8]\n",
      " [ 6 12 18 24]\n",
      " [10 20 30 40]\n",
      " [14 28 42 56]]\n",
      "for loop solution:\n",
      "[[ 2  4  6  8]\n",
      " [ 6 12 18 24]\n",
      " [10 20 30 40]\n",
      " [14 28 42 56]]\n",
      "Transposed Array:\n",
      "[[ 2  4  6  8]\n",
      " [ 6 12 18 24]\n",
      " [10 20 30 40]\n",
      " [14 28 42 56]]\n"
     ]
    }
   ],
   "source": [
    "u = np.array([1, 3, 5, 7])\n",
    "print(u)\n",
    "\n",
    "v = np.array([2, 4, 6, 8])\n",
    "print(v)\n",
    "print(f' outerproduct solution:\\n {np.outer(u, v, out=None)}')\n",
    "\n",
    "s=[]\n",
    "for i in u:\n",
    "    sum = []\n",
    "    for j in v:\n",
    "        sum.append(i*j)\n",
    "    s.append(sum) \n",
    "\n",
    "print(f'for loop solution:\\n{ np.matrix(s)}')\n",
    "\n",
    "import numpy as np\n",
    "u = np.array([1, 3, 5, 7])\n",
    "v = np.array([[2],[4],[6],[8]])\n",
    "\n",
    "q=u*v\n",
    "q_transpose = q.transpose()\n",
    "\n",
    "print(f'Transposed Array:\\n{q_transpose}')"
   ]
  },
  {
   "cell_type": "markdown",
   "metadata": {},
   "source": [
    "3\\. **Matrix masking**\n",
    "\n",
    "Create a 10 by 6 matrix of float random numbers, distributed between 0 and 3 according to a flat distribution.\n",
    "\n",
    "After creating the matrix, set all entries $< 0.3$ to zero using a mask."
   ]
  },
  {
   "cell_type": "code",
   "execution_count": 4,
   "metadata": {},
   "outputs": [
    {
     "name": "stdout",
     "output_type": "stream",
     "text": [
      "[[0.08961864 1.93977022 1.69170439 1.99443709 2.38388255 1.74988123]\n",
      " [1.53829431 1.17261184 0.06770242 2.14812954 0.69302786 0.57172323]\n",
      " [2.56489907 1.87843125 2.90305329 1.79257289 0.28439423 2.22072591]\n",
      " [0.39165555 0.45562258 0.92116757 2.3574266  1.51625845 1.32772541]\n",
      " [1.30917829 2.83688512 1.63424832 0.9143567  0.49294293 0.6461275 ]\n",
      " [2.39822307 0.57644119 0.6644666  0.99564991 2.70332092 0.79653598]\n",
      " [2.2653033  0.45685304 1.90526217 0.42832406 1.38982849 0.92120261]\n",
      " [0.10601714 1.18152411 1.35684177 0.3704997  1.36950092 1.73041769]\n",
      " [2.25649789 1.31808081 2.8378279  2.96552016 1.15080866 1.15573535]\n",
      " [2.76244253 1.81599933 1.33354971 2.86014651 0.00602433 2.17315972]]\n",
      "the mask: [[ True False False False False False]\n",
      " [False False  True False False False]\n",
      " [False False False False  True False]\n",
      " [False False False False False False]\n",
      " [False False False False False False]\n",
      " [False False False False False False]\n",
      " [False False False False False False]\n",
      " [ True False False False False False]\n",
      " [False False False False False False]\n",
      " [False False False False  True False]] \n",
      "\n",
      "the filtered array: [0.08961864 0.06770242 0.28439423 0.10601714 0.00602433] \n",
      "\n",
      "are matrix1 and filtered_matrix1 the same object? False \n",
      "\n",
      "the modified array: [[0.         1.93977022 1.69170439 1.99443709 2.38388255 1.74988123]\n",
      " [1.53829431 1.17261184 0.         2.14812954 0.69302786 0.57172323]\n",
      " [2.56489907 1.87843125 2.90305329 1.79257289 0.         2.22072591]\n",
      " [0.39165555 0.45562258 0.92116757 2.3574266  1.51625845 1.32772541]\n",
      " [1.30917829 2.83688512 1.63424832 0.9143567  0.49294293 0.6461275 ]\n",
      " [2.39822307 0.57644119 0.6644666  0.99564991 2.70332092 0.79653598]\n",
      " [2.2653033  0.45685304 1.90526217 0.42832406 1.38982849 0.92120261]\n",
      " [0.         1.18152411 1.35684177 0.3704997  1.36950092 1.73041769]\n",
      " [2.25649789 1.31808081 2.8378279  2.96552016 1.15080866 1.15573535]\n",
      " [2.76244253 1.81599933 1.33354971 2.86014651 0.         2.17315972]] \n",
      "\n"
     ]
    }
   ],
   "source": [
    "matrix1=np.random.uniform(0, 3, (10, 6))\n",
    "print(matrix1)\n",
    "\n",
    "mask = (matrix1 <0.3 )\n",
    "print(\"the mask:\", mask, '\\n')\n",
    "\n",
    "filtered_matrix1 = matrix1[mask]\n",
    "\n",
    "print(\"the filtered array:\", filtered_matrix1, '\\n')\n",
    "\n",
    "\n",
    "\n",
    "print(\"are matrix1 and filtered_matrix1 the same object?\", np.may_share_memory(matrix1, filtered_matrix1), '\\n')\n",
    "\n",
    "\n",
    "matrix1[matrix1 <0.3] = 0\n",
    "print(\"the modified array:\", matrix1, '\\n')"
   ]
  },
  {
   "cell_type": "markdown",
   "metadata": {},
   "source": [
    "4\\. **Trigonometric functions**\n",
    "\n",
    "Use `np.linspace` to create an array of 100 numbers between $0$ and $2\\pi$ (inclusive).\n",
    "\n",
    "  * Extract every 10th element using the slice notation\n",
    "  * Reverse the array using the slice notation\n",
    "  * Extract elements where the absolute difference between the `sin` and `cos` functions evaluated for that element is $< 0.1$\n",
    "  * **Optional**: make a plot showing the sin and cos functions and indicate where they are close"
   ]
  },
  {
   "cell_type": "code",
   "execution_count": 5,
   "metadata": {},
   "outputs": [
    {
     "name": "stdout",
     "output_type": "stream",
     "text": [
      "[0.63466518 1.26933037 1.90399555 2.53866073 3.17332591 3.8079911\n",
      " 4.44265628 5.07732146 5.71198664]\n",
      "[5.71198664 5.07732146 4.44265628 3.8079911  3.17332591 2.53866073\n",
      " 1.90399555 1.26933037 0.63466518]\n",
      "[5.711986642890533, 3.8079910952603555, 3.173325912716963, 2.53866073017357, 0.6346651825433925]\n"
     ]
    }
   ],
   "source": [
    "\n",
    "import math as mt\n",
    "import numpy.random as npr\n",
    "\n",
    "# or by number of points:\n",
    "a=np.linspace(0, (2*mt.pi), 100) # start, end, num-points (convenient to plot a function, for example)\n",
    "list_temp=[]\n",
    "list_reverse=[]\n",
    "\n",
    "\n",
    "list_temp=a\n",
    "list_temp=a[0::10]\n",
    "list_temp=list_temp[1:]\n",
    "print(list_temp)\n",
    "\n",
    "list_reverse=list_temp[::-1]\n",
    "print(list_reverse)\n",
    "\n",
    "list_final=[]\n",
    "for a in list_reverse:\n",
    "    if ((abs(mt.sin(a)))-(abs(mt.cos(a))))<=0:\n",
    "        list_final.append(a)\n",
    "                              \n",
    "print(list_final)        \n",
    "        "
   ]
  },
  {
   "cell_type": "markdown",
   "metadata": {},
   "source": [
    "5\\. **Matrices**\n",
    "\n",
    "Create a matrix that shows the 10 by 10 multiplication table.\n",
    "\n",
    " * Find the trace of the matrix\n",
    " * Extract the anti-diagonal matrix (this should be ```array([10, 18, 24, 28, 30, 30, 28, 24, 18, 10])```)\n",
    " * Extract the diagonal offset by 1 upwards (this should be ```array([ 2,  6, 12, 20, 30, 42, 56, 72, 90])```)"
   ]
  },
  {
   "cell_type": "code",
   "execution_count": 6,
   "metadata": {},
   "outputs": [
    {
     "name": "stdout",
     "output_type": "stream",
     "text": [
      "matrix is \n",
      "[[  1   2   3   4   5   6   7   8   9  10]\n",
      " [  2   4   6   8  10  12  14  16  18  20]\n",
      " [  3   6   9  12  15  18  21  24  27  30]\n",
      " [  4   8  12  16  20  24  28  32  36  40]\n",
      " [  5  10  15  20  25  30  35  40  45  50]\n",
      " [  6  12  18  24  30  36  42  48  54  60]\n",
      " [  7  14  21  28  35  42  49  56  63  70]\n",
      " [  8  16  24  32  40  48  56  64  72  80]\n",
      " [  9  18  27  36  45  54  63  72  81  90]\n",
      " [ 10  20  30  40  50  60  70  80  90 100]]\n",
      "trace is 385\n",
      "anti-diagonal matrix is\n",
      "[10 18 24 28 30 30 28 24 18 10]\n",
      "diagonal matrix starting from 1st element is\n",
      "[ 2  6 12 20 30 42 56 72 90]\n"
     ]
    }
   ],
   "source": [
    "import numpy as np\n",
    "\n",
    "def mult_table(n):\n",
    "    rng = np.arange(1, n+1)\n",
    "    return rng * rng[:, None]\n",
    "\n",
    "print(\"matrix is \")\n",
    "print(mult_table(10))\n",
    "\n",
    "a=mult_table(10).trace()\n",
    "print(\"trace is\",a)\n",
    "\n",
    "\n",
    "flipped_arr = np.fliplr(mult_table(10))\n",
    "print(\"anti-diagonal matrix is\")\n",
    "print(flipped_arr.diagonal())\n",
    "\n",
    "print(\"diagonal matrix starting from 1st element is\")\n",
    "\n",
    "print(np.diagonal(mult_table(10), offset=1))"
   ]
  },
  {
   "cell_type": "markdown",
   "metadata": {},
   "source": [
    "6\\. **Broadcasting**\n",
    "\n",
    "Use broadcasting to create a grid of distances.\n",
    "\n",
    "Route 66 crosses the following cities in the US: Chicago, Springfield, Saint-Louis, Tulsa, Oklahoma City, Amarillo, Santa Fe, Albuquerque, Flagstaff, Los Angeles.\n",
    "\n",
    "The corresponding positions in miles are: 0, 198, 303, 736, 871, 1175, 1475, 1544, 1913, 2448\n",
    "\n",
    "  * Build a 2D grid of distances among each city along Route 66\n",
    "  * Convert the distances in km"
   ]
  },
  {
   "cell_type": "code",
   "execution_count": 7,
   "metadata": {},
   "outputs": [
    {
     "name": "stdout",
     "output_type": "stream",
     "text": [
      "[[   0  198  303  736  871 1175 1475 1544 1913 2448]\n",
      " [ 198    0  105  538  673  977 1277 1346 1715 2250]\n",
      " [ 303  105    0  433  568  872 1172 1241 1610 2145]\n",
      " [ 736  538  433    0  135  439  739  808 1177 1712]\n",
      " [ 871  673  568  135    0  304  604  673 1042 1577]\n",
      " [1175  977  872  439  304    0  300  369  738 1273]\n",
      " [1475 1277 1172  739  604  300    0   69  438  973]\n",
      " [1544 1346 1241  808  673  369   69    0  369  904]\n",
      " [1913 1715 1610 1177 1042  738  438  369    0  535]\n",
      " [2448 2250 2145 1712 1577 1273  973  904  535    0]]\n",
      "[[   0.    318.78  487.83 1184.96 1402.31 1891.75 2374.75 2485.84 3079.93\n",
      "  3941.28]\n",
      " [ 318.78    0.    169.05  866.18 1083.53 1572.97 2055.97 2167.06 2761.15\n",
      "  3622.5 ]\n",
      " [ 487.83  169.05    0.    697.13  914.48 1403.92 1886.92 1998.01 2592.1\n",
      "  3453.45]\n",
      " [1184.96  866.18  697.13    0.    217.35  706.79 1189.79 1300.88 1894.97\n",
      "  2756.32]\n",
      " [1402.31 1083.53  914.48  217.35    0.    489.44  972.44 1083.53 1677.62\n",
      "  2538.97]\n",
      " [1891.75 1572.97 1403.92  706.79  489.44    0.    483.    594.09 1188.18\n",
      "  2049.53]\n",
      " [2374.75 2055.97 1886.92 1189.79  972.44  483.      0.    111.09  705.18\n",
      "  1566.53]\n",
      " [2485.84 2167.06 1998.01 1300.88 1083.53  594.09  111.09    0.    594.09\n",
      "  1455.44]\n",
      " [3079.93 2761.15 2592.1  1894.97 1677.62 1188.18  705.18  594.09    0.\n",
      "   861.35]\n",
      " [3941.28 3622.5  3453.45 2756.32 2538.97 2049.53 1566.53 1455.44  861.35\n",
      "     0.  ]]\n"
     ]
    }
   ],
   "source": [
    "\n",
    "mileposts = np.array([0, 198, 303, 736, 871, 1175, 1475, 1544, 1913, 2448])\n",
    "\n",
    "distance_array = np.abs(mileposts - mileposts[:, np.newaxis]) \n",
    "\n",
    "distance_array\n",
    "\n",
    "print(distance_array)\n",
    "km= (1.61*distance_array)\n",
    "print(km)\n"
   ]
  },
  {
   "cell_type": "markdown",
   "metadata": {},
   "source": [
    "7\\. **Prime numbers sieve**\n",
    "\n",
    "Compute the prime numbers in the 0-N (start with N=99) range with a sieve (mask).\n",
    "\n",
    "  * Constract a shape (N,) boolean array, which is the mask\n",
    "  * Identify the multiples of each number starting from 2 and set accordingly the corresponding mask element\n",
    "  * Apply the mask to obtain an array of ordered prime numbers\n",
    "  * Check the performances (with `timeit`); how does it scale with N?\n",
    "  * Implement the optimization suggested in the [sieve of Eratosthenes](https://en.wikipedia.org/wiki/Sieve_of_Eratosthenes)"
   ]
  },
  {
   "cell_type": "code",
   "execution_count": 12,
   "metadata": {},
   "outputs": [
    {
     "name": "stdout",
     "output_type": "stream",
     "text": [
      "Following are the prime numbers smaller\n",
      "than or equal to 99\n",
      "2\n",
      "3\n",
      "5\n",
      "7\n",
      "11\n",
      "13\n",
      "17\n",
      "19\n",
      "23\n",
      "29\n",
      "31\n",
      "37\n",
      "41\n",
      "43\n",
      "47\n",
      "53\n",
      "59\n",
      "61\n",
      "67\n",
      "71\n",
      "73\n",
      "79\n",
      "83\n",
      "89\n",
      "97\n"
     ]
    }
   ],
   "source": [
    "def SieveOfEratosthenes(num):\n",
    "    prime = [True for i in range(num+1)]\n",
    "\n",
    "    p = 2\n",
    "    while (p * p <= num):        \n",
    "        if (prime[p] == True):\n",
    "  \n",
    "            for i in range(p * p, num+1, p):\n",
    "                prime[i] = False\n",
    "        p += 1\n",
    "    for p in range(2, num+1):\n",
    "        if prime[p]:\n",
    "            print(p)\n",
    "  \n",
    "  \n",
    "if __name__ == '__main__':\n",
    "    num = 99\n",
    "    print(\"Following are the prime numbers smaller\"),\n",
    "    print(\"than or equal to\", num)\n",
    "    SieveOfEratosthenes(num)"
   ]
  },
  {
   "cell_type": "markdown",
   "metadata": {},
   "source": [
    "8\\. **Diffusion using random walk**\n",
    "\n",
    "Consider a simple random walk process: at each step in time, a walker jumps right or left (+1 or -1) with equal probability. The goal is to find the typical distance from the origin of many random walkers after a given amount of time.\n",
    "\n",
    "*Hint*: create a 2D array where each row represents a walker, and each column represents a time step.\n",
    "\n",
    "  * Take 1000 walkers and let them walk for 200 steps\n",
    "  * Use `randint` to create a 2D array of size $walkers \\times steps$ with values -1 or 1\n",
    "  * Calculate the walking distances for each walker (e.g. by summing the elements in each row)\n",
    "  * Take the square of the previously-obtained array (element-wise)\n",
    "  * Compute the mean of the squared distances at each step (i.e. the mean along the columns)\n",
    "  * **Optional**: plot the average distances ($\\sqrt(distance^2)$) as a function of time (step)"
   ]
  },
  {
   "cell_type": "code",
   "execution_count": 8,
   "metadata": {},
   "outputs": [
    {
     "name": "stdout",
     "output_type": "stream",
     "text": [
      "[[-1  1 -1 ...  1  1 -1]\n",
      " [ 1 -1  1 ... -1  1  1]\n",
      " [-1  1  1 ... -1  1 -1]\n",
      " ...\n",
      " [ 1 -1  1 ...  1 -1 -1]\n",
      " [-1 -1 -1 ...  1 -1 -1]\n",
      " [-1 -1 -1 ... -1 -1 -1]]\n",
      "[[ -1   0  -1 ... -10  -9 -10]\n",
      " [  1   0   1 ... -14 -13 -12]\n",
      " [ -1   0   1 ... -10  -9 -10]\n",
      " ...\n",
      " [  1   0   1 ...  -8  -9 -10]\n",
      " [ -1  -2  -3 ...  16  15  14]\n",
      " [ -1  -2  -3 ...  20  19  18]]\n",
      "[[  1   0   1 ... 100  81 100]\n",
      " [  1   0   1 ... 196 169 144]\n",
      " [  1   0   1 ... 100  81 100]\n",
      " ...\n",
      " [  1   0   1 ...  64  81 100]\n",
      " [  1   4   9 ... 256 225 196]\n",
      " [  1   4   9 ... 400 361 324]]\n",
      "mean is  [  1.      1.968   2.992   4.108   5.064   6.396   7.408   8.528   9.792\n",
      "  10.84   11.912  12.756  13.672  14.424  15.616  16.48   17.848  18.46\n",
      "  19.816  20.536  22.04   23.54   24.928  25.792  26.224  27.128  28.272\n",
      "  28.956  29.92   30.7    31.48   32.872  33.712  34.5    35.632  36.252\n",
      "  36.632  36.944  37.856  38.992  39.68   40.668  42.064  42.832  43.336\n",
      "  44.296  45.328  46.336  47.824  48.936  50.024  51.012  51.576  52.208\n",
      "  53.264  54.896  55.816  56.74   58.432  58.964  59.912  60.912  62.464\n",
      "  63.444  63.976  64.22   64.56   65.56   66.616  67.088  68.664  70.08\n",
      "  70.504  71.272  72.872  74.008  74.944  75.384  76.344  77.8    78.632\n",
      "  80.16   80.384  81.64   82.304  82.796  82.712  84.004  84.912  86.096\n",
      "  87.16   88.032  89.328  90.152  90.256  91.308  92.624  94.064  95.144\n",
      "  96.516  97.528  99.332 100.448 100.712 101.608 102.948 104.04  105.916\n",
      " 106.944 107.484 107.864 109.184 110.792 111.664 112.528 112.636 113.28\n",
      " 112.724 113.384 113.844 114.608 117.    118.24  118.712 119.808 120.62\n",
      " 121.872 123.088 124.44  126.632 127.048 128.812 130.096 129.996 129.904\n",
      " 130.028 132.032 132.78  135.064 135.548 136.024 137.276 138.016 138.808\n",
      " 141.024 141.896 142.592 143.248 144.728 144.42  147.04  147.992 150.24\n",
      " 151.592 151.424 152.38  152.36  155.532 156.896 157.864 160.224 162.488\n",
      " 163.04  163.884 164.968 167.132 168.8   169.556 170.52  171.236 173.088\n",
      " 172.908 173.968 175.    176.912 178.704 179.608 180.136 182.128 182.5\n",
      " 184.216 186.448 186.768 187.376 186.44  186.388 188.688 189.544 189.944\n",
      " 190.476 192.968 193.916 194.672 196.18  198.48  199.444 201.192 201.26\n",
      " 201.328 202.76 ]\n"
     ]
    }
   ],
   "source": [
    "n_stories = 1000 # number of walkers\n",
    "t_max = 200\n",
    "t = np.arange(t_max)\n",
    "steps = 2 * np.random.randint(-1, 1, (n_stories, t_max)) +1\n",
    "np.unique(steps)\n",
    "print(steps)\n",
    "\n",
    "dist = np.cumsum(steps, axis=1) # axis = 1: dimension of time >>> \n",
    "\n",
    "print(dist)\n",
    "\n",
    "length = dist*dist\n",
    "\n",
    "print(length)\n",
    "\n",
    "\n",
    "mean=np.mean(length,axis=0)\n",
    "\n",
    "print(\"mean is \", mean)"
   ]
  },
  {
   "cell_type": "code",
   "execution_count": null,
   "metadata": {},
   "outputs": [],
   "source": []
  }
 ],
 "metadata": {
  "kernelspec": {
   "display_name": "Python 3 (ipykernel)",
   "language": "python",
   "name": "python3"
  },
  "language_info": {
   "codemirror_mode": {
    "name": "ipython",
    "version": 3
   },
   "file_extension": ".py",
   "mimetype": "text/x-python",
   "name": "python",
   "nbconvert_exporter": "python",
   "pygments_lexer": "ipython3",
   "version": "3.9.13"
  }
 },
 "nbformat": 4,
 "nbformat_minor": 2
}
