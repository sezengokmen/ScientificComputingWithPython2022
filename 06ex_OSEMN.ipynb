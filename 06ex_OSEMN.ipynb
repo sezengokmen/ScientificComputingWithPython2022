{
 "cells": [
  {
   "cell_type": "code",
   "execution_count": null,
   "metadata": {},
   "outputs": [],
   "source": [
    "import pandas as pd\n",
    "import numpy as np"
   ]
  },
  {
   "cell_type": "markdown",
   "metadata": {},
   "source": [
    "1\\. **Text files**\n",
    "\n",
    "Perform the following operations on plain `txt` files:\n",
    "\n",
    "+ create a list of integrer numbers and then save it to a text file named `data_int.txt`. Run the `cat` command to print the content of the file.\n",
    "+ create a matrix of 5x5 floats and then save it to a text file named `data_float.txt`. Use the `cat` command to print the content of the file.\n",
    "+ load the `txt` file of the previous point and convert it to a `csv` file by hand."
   ]
  },
  {
   "cell_type": "code",
   "execution_count": null,
   "metadata": {},
   "outputs": [],
   "source": [
    "numbr=[40,543,541,765,2,6,9,1,7,3,8,7,1432,7644,876]\n",
    "\n",
    "with open(\"data_int.txt\", mode = 'w') as f:\n",
    "    for data_int in numbr:\n",
    "        f.write(\"%s\\n\" % data_int)\n",
    "!cat data_int.txt \n",
    "\n",
    "diagonal = np.diag(np.array([13.5543, 20.8362, 22.3698, 12.6543, 99.987]))\n",
    "\n",
    "\n",
    "with open(\"data_float.txt\", mode = 'w') as f:\n",
    "    for data_float in diagonal:\n",
    "        f.write(\"%s\\n\" % data_float)\n",
    "\n",
    "!cat data_float.txt \n",
    "\n",
    "\n",
    "read_file = pd.read_csv ('data_float.txt')\n",
    "read_file.to_csv (r'C:\\Users\\demo\\Desktop\\New_data_float.csv', index=None)\n",
    "\n",
    "\n",
    "print(read_file)\n"
   ]
  },
  {
   "cell_type": "markdown",
   "metadata": {},
   "source": [
    "2\\. **JSON files**\n",
    "\n",
    "Load the file *user_data.json*, which can be found at:\n",
    "\n",
    "- https://www.dropbox.com/s/sz5klcdpckc39hd/user_data.json\n",
    "\n",
    "and filter the data by the \"CreditCardType\" when it equals to \"American Express\". Than save the data to a new CSV file."
   ]
  },
  {
   "cell_type": "code",
   "execution_count": null,
   "metadata": {},
   "outputs": [],
   "source": [
    "import pandas as pd\n",
    "import json\n",
    "import csv\n",
    "\n",
    "json.data= pd.read_json('/Users/demo/Desktop/user_data.json')\n",
    "print(json.data)\n",
    "\n",
    "Credit=json.data[(json.data[\"CreditCardType\"]==\"American Express\")]\n",
    "display(Credit)\n",
    "csvfile=Credit.to_csv()\n",
    "display(csvfile)\n"
   ]
  },
  {
   "cell_type": "markdown",
   "metadata": {},
   "source": [
    "3\\. **CSV files with Pandas**\n",
    "\n",
    "Load the file from this url:\n",
    "\n",
    "- https://www.dropbox.com/s/kgshemfgk22iy79/mushrooms_categorized.csv\n",
    "\n",
    "with Pandas. \n",
    "\n",
    "+ explore and print the DataFrame\n",
    "+ calculate, using `groupby()`, the average value of each feature, separately for each class\n",
    "+ save the file in a JSON format."
   ]
  },
  {
   "cell_type": "code",
   "execution_count": null,
   "metadata": {},
   "outputs": [],
   "source": [
    "import pandas as pd\n",
    "import csv\n",
    "\n",
    "csv_data= pd.read_csv('/Users/demo/Downloads/mushrooms_categorized.csv')\n",
    "print(csv_data)\n",
    "means=csv_data.groupby(['class']).mean()\n",
    "display(means)\n",
    "json=means.to_json()\n",
    "display(json)\n"
   ]
  },
  {
   "cell_type": "markdown",
   "metadata": {},
   "source": [
    "4\\. **Reading the credit card numbers**\n",
    "\n",
    "Get the binary file named *credit_card.dat* from this address:\n",
    "\n",
    "- https://www.dropbox.com/s/8m0syw2tkul3dap/credit_card.dat\n",
    "\n",
    "and convert the data into the real credit card number, knowing that:\n",
    "- each line corresponds to a credit card number, which consists of 16 characters (which are numbers in the 0-9 range) divided in 4 blocks, with a whitespace between each block\n",
    "- each character is written using a 6 bit binary representation (including the whitespace)\n",
    "- the final 4 bits of each line are a padding used to determine the end of the line, and can be ignored\n",
    "\n",
    "*Hint*: convert the binary numbers to the decimal representation first, and then use the `chr()` function to convert the latter to a char"
   ]
  },
  {
   "cell_type": "code",
   "execution_count": null,
   "metadata": {},
   "outputs": [],
   "source": [
    "creditdata = pd.read_csv(\"/Users/demo/Downloads/credit_card.dat\")\n",
    "\n",
    "def creditcardconverter(n):  \n",
    "    \n",
    "    sit = \"\"\n",
    "    for y in range(0,len(str(n))-6,6): \n",
    "        con_chr = chr(int(n[y:y+6],2))  \n",
    "        sit=sit+con_chr\n",
    "    return sit\n",
    "creditdata[creditdata.columns[0]] = creditdata[creditdata.columns[0]].apply(creditcardconverter) \n",
    "creditdata.rename(columns={creditdata.columns[0]:creditcardconverter(creditdata.columns[0])})\n"
   ]
  },
  {
   "cell_type": "markdown",
   "metadata": {},
   "source": [
    "5\\. **Write data to a binary file**\n",
    "\n",
    "a) Start from the `data/data_000637.txt` file that we have used during the previous lectures, and convert it to a binary file according to the format defined below:"
   ]
  },
  {
   "cell_type": "code",
   "execution_count": null,
   "metadata": {},
   "outputs": [],
   "source": [
    "from IPython.display import Image\n",
    "Image(\"images/data_format.png\")"
   ]
  },
  {
   "cell_type": "markdown",
   "metadata": {},
   "source": [
    "*Hints*:\n",
    "- Read the first 10 lines using Pandas\n",
    "- Iterate over the DataFrame rows\n",
    "- For every row, ``pack'' the values (features) into a single 64-bit word, according to the format specified above. Use bit-wise shifts and operators to do so.\n",
    "- Write each 64-bit word to a binary file. You can use `struct` in this way:\n",
    "```\n",
    "binary_file.write( struct.pack('<q', word) )\n",
    "```\n",
    "where `word` is the 64-bit word.\n",
    "- Close the file after completing the loop.\n",
    "\n",
    "b) Check that the binary file is correctly written by reading it with the code used in the lecture `06_OSEMN.ipynb`, and verify that the content of the `txt` and binary files is consistent.\n",
    "\n",
    "c) What is the difference of the size on disk between equivalent `txt` and binary files?"
   ]
  },
  {
   "cell_type": "code",
   "execution_count": null,
   "metadata": {},
   "outputs": [],
   "source": [
    "#a)\n",
    "import pandas as pd\n",
    "import struct\n",
    "import time\n",
    "import os\n",
    "\n",
    "binarycon= pd.read_csv('/Users/demo/Desktop/data_000637.txt',nrows=10)\n",
    "\n",
    "outputFileName = 'data/converted.dat'\n",
    "with open(outputFileName, 'wb') as converted:\n",
    "    for rows in binarycon.values:\n",
    "        #Every rows contains the values under the columns\n",
    "        word = rows[0] << 62\n",
    "        word =word+ rows[1] << 58\n",
    "        word =word+ rows[2] << 49\n",
    "        word =word+ rows[3] << 17\n",
    "        word =word+ rows[4] << 5\n",
    "        word =word+ rows[5] << 0\n",
    "        converted.write(struct.pack('<q',word))\n",
    "    converted.close()\n",
    "\n",
    "binarycon.iloc[0:10,:].to_csv('./newwww.txt')\n",
    "\n",
    "size_txt=os.path.getsize(\"./newwww.txt\") #os.path.getsize() returns the size of the file in bytes\n",
    "size_bin=os.path.getsize(\"data/converted.dat\")\n",
    "print('text file size=:',size_txt)\n",
    "print('binary file size=:',size_bin)\n",
    "differences=abs(size_txt-size_bin)\n",
    "print(\"differences is :\", differences)"
   ]
  }
 ],
 "metadata": {
  "kernelspec": {
   "display_name": "Python 3 (ipykernel)",
   "language": "python",
   "name": "python3"
  },
  "language_info": {
   "codemirror_mode": {
    "name": "ipython",
    "version": 3
   },
   "file_extension": ".py",
   "mimetype": "text/x-python",
   "name": "python",
   "nbconvert_exporter": "python",
   "pygments_lexer": "ipython3",
   "version": "3.9.13"
  }
 },
 "nbformat": 4,
 "nbformat_minor": 2
}
