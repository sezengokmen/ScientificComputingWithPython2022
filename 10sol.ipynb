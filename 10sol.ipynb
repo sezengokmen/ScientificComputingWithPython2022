{
 "cells": [
  {
   "cell_type": "markdown",
   "metadata": {},
   "source": [
    "1\\. **Hurricanes per Year**\n",
    "\n",
    "The number of hurricanes in 2005 was 15. The historic average is 6.3. Is this number signficantly different?\n",
    "- Assume the number of hurricanes is random, i.e. follows the Poisson distribution.\n",
    "- Assume as statistically significant a probability that has a Z score of 3 or larger with respect a normal distribution.\n",
    "\n",
    "**Hint**: compute the probability that in a single year are observed 15 or more hurricances."
   ]
  },
  {
   "cell_type": "code",
   "execution_count": 17,
   "metadata": {},
   "outputs": [
    {
     "name": "stdout",
     "output_type": "stream",
     "text": [
      "Probability that in a single year are observed 15 or more hurricances : 0.0008444930803583883\n",
      "Z value is  2.9\n",
      "p-value = 0.0037316266007680825\n"
     ]
    }
   ],
   "source": [
    "import numpy as np\n",
    "import pandas as pd\n",
    "import matplotlib.pyplot as plt\n",
    "from scipy.stats import poisson\n",
    "from math import sqrt, pi, erf\n",
    "from scipy import stats\n",
    "from scipy import optimize\n",
    "\n",
    "mu = 6.3\n",
    "x = 15.\n",
    "sigma = 3.\n",
    "\n",
    "probability = 1-poisson.cdf(k=15., mu=6.3)\n",
    "\n",
    "print(\"Probability that in a single year are observed 15 or more hurricances : {}\".format(probability))\n",
    "\n",
    "Z = abs(x - mu) / sigma\n",
    "\n",
    "print(\"Z value is \", Z)\n",
    "\n",
    "\n",
    "pvalue = stats.norm.cdf(-Z) + (1. - stats.norm.cdf(Z))\n",
    "\n",
    "print(\"p-value =\", pvalue)\n"
   ]
  },
  {
   "cell_type": "markdown",
   "metadata": {},
   "source": [
    "2\\. **Pairwise t-test**\n",
    "\n",
    "In an experiment, a group of 10 individuals agreed to participate in a study of blood pressure changes following exposure to halogen lighting. Resting systolic blood pressure was recorded for each individual. The participants were then exposed to 20 minutes in a room lit only by halogen lamps. A post-exposure systolic blood pressure reading was recorded for each individual. The results are presented in the following data set:\n",
    "\n",
    "```python\n",
    "pre = np.array([120, 132, 120, 110, 115, 128, 120, 112, 110, 100])\n",
    "post = np.array([140, 156, 145, 130, 117, 148, 137, 119, 127, 135])\n",
    "```\n",
    "\n",
    "Determine whether the change in blood pressures within our sample was statistically significant.\n",
    "\n",
    "**Hint:**\n",
    "in this case, the Student's $t$-test should be performed to compare the two datasets.\n",
    "Use the following test statistics:\n",
    "\n",
    "$$T = \\frac{\\bar{x}_1 - \\bar{x}_2}{\\sigma \\sqrt{\\frac{2}{n}}}$$\n",
    "\n",
    "and \n",
    "\n",
    "$$\\sigma = \\sqrt{\\frac{\\sigma_1^2 + \\sigma_2^2}{2}}$$"
   ]
  },
  {
   "cell_type": "code",
   "execution_count": null,
   "metadata": {},
   "outputs": [],
   "source": [
    "pre = np.array([120, 132, 120, 110, 115, 128, 120, 112, 110, 100])\n",
    "post = np.array([140, 156, 145, 130, 117, 148, 137, 119, 127, 135])\n",
    "\n",
    "pre_mean = np.mean(pre)\n",
    "post_mean = np.mean(post)\n",
    "\n",
    "n = len(pre)\n",
    "\n",
    "variance_pre=np.var(pre,ddof=1)\n",
    "variance_post=np.var(post,ddof=1)\n",
    "\n",
    "sigma_pre = variance_pre**(1/2)\n",
    "sigma_post = variance_post**(1/2)\n",
    "sigma = ((sigma_pre**2 + sigma_post**2)/2)**(1/2)\n",
    "\n",
    "\n",
    "\n",
    "T = (pre_mean - post_mean) / (sigma *((2/n)**(1/2)))\n",
    "print(\"T value found as : \",T)\n",
    "\n",
    "plt.figure()\n",
    "plt.plot(range(1,11), pre, 'bo')\n",
    "plt.plot(range(1,11), post, 'ro')\n",
    "plt.show()\n",
    "\n",
    "\n",
    "\n",
    "pvalue = stats.t.cdf(T, n - 1) + (1. - stats.t.cdf(-T, n - 1))\n",
    "print(\"p-value found as\", pvalue)\n"
   ]
  },
  {
   "cell_type": "markdown",
   "metadata": {},
   "source": [
    "3\\. **Curve fitting of temperature in Alaska** \n",
    "\n",
    "The temperature extremes in Alaska for each month, starting in January, are given by (in degrees Celcius):\n",
    "\n",
    "max:  `17,  19,  21,  28,  33,  38, 37,  37,  31,  23,  19,  18`\n",
    "\n",
    "min: `-62, -59, -56, -46, -32, -18, -9, -13, -25, -46, -52, -58`\n",
    "\n",
    "* Plot these temperatures.\n",
    "* Find a suitable a function that can describe min and max temperatures. \n",
    "* Fit this function to the data with `scipy.optimize.curve_fit()`.\n",
    "* Plot the result. Is the fit reasonable? If not, why?\n",
    "* Is the time offset for min and max temperatures the same within the fit accuracy?"
   ]
  },
  {
   "cell_type": "code",
   "execution_count": null,
   "metadata": {},
   "outputs": [],
   "source": [
    "import numpy as np\n",
    "from scipy.optimize import curve_fit\n",
    "\n",
    "import matplotlib.pyplot as plt\n",
    "from scipy import optimize\n",
    "\n",
    "temp_max = np.array([17,  19,  21,  28,  33,  38, 37,  37,  31,  23,  19,  18])\n",
    "temp_min = np.array([-62, -59, -56, -46, -32, -18, -9, -13, -25, -46, -52, -58])\n",
    "\n",
    "months = np.arange(12)\n",
    "plt.plot(months, temp_max, 'p')\n",
    "plt.plot(months, temp_min, 'p')\n",
    "plt.xlabel('Month')\n",
    "plt.ylabel('Min and max temperature')\n",
    " \n",
    "def yearly_temps(a, b, c, d):\n",
    "    op= c * np.cos(1/2*a)*4+ d*8 * np.pi - b\n",
    "    return op\n",
    "\n",
    "res_max, cov_max = optimize.curve_fit(yearly_temps, months, temp_max, [0, 10, 0])\n",
    "res_min, cov_min = optimize.curve_fit(yearly_temps, months, temp_min, [-40, 20, 0])\n",
    "\n",
    "days = np.linspace(0, 12, num=365)\n",
    "\n",
    "plt.figure()\n",
    "plt.plot(months, temp_max, 'o')\n",
    "plt.plot(days, yearly_temps(days, *res_max), 'r-')\n",
    "plt.plot(months, temp_min, 'o')\n",
    "plt.plot(days, yearly_temps(days, *res_min), 'r-')\n",
    "plt.xlabel('Month')\n",
    "plt.ylabel('Temperature in C)')\n",
    "\n",
    "plt.show()\n",
    "\n",
    "print(\"plot works with high accuracy rate for most of the months.\")\n",
    "\n"
   ]
  },
  {
   "cell_type": "markdown",
   "metadata": {},
   "source": [
    "4\\. **Fit the residues**\n",
    "\n",
    "Read the `data/residuals_261.pkl` file. If you haven't got it already, download it from here:\n",
    "\n",
    "```bash\n",
    "wget https://www.dropbox.com/s/3uqleyc3wyz52tr/residuals_261.pkl -P data/\n",
    "```\n",
    "\n",
    "The feature named `residual` contains the residuals (defined as $y_i - \\hat{y}_i$) of a linear regression as a function of the independent variable `distances`.\n",
    "\n",
    "- Considering only the \"residual\" feature, create an histogram with the appropriate binning and plot it.\n",
    "- Set the appropriate Poisson uncertainty for each bin (thus, for each bin, $\\sigma_i = \\sqrt{n_i}$, where $n_i$ is the number of entries in each bin)\n",
    "- By looking at the distribution of the residuals, define an appropriate function and fit it to the histogram of the residuals\n",
    "- Perform a goodness-of-fit test. Is the p-value of the fit satisfactory?"
   ]
  },
  {
   "cell_type": "code",
   "execution_count": 16,
   "metadata": {},
   "outputs": [
    {
     "name": "stdout",
     "output_type": "stream",
     "text": [
      "--2023-01-19 15:43:50--  https://www.dropbox.com/s/3uqleyc3wyz52tr/residuals_261.pkl\r\n",
      "Resolving www.dropbox.com (www.dropbox.com)... failed: nodename nor servname provided, or not known.\r\n",
      "wget: unable to resolve host address 'www.dropbox.com'\r\n"
     ]
    },
    {
     "data": {
      "text/plain": [
       "[<matplotlib.lines.Line2D at 0x7f88082d4790>]"
      ]
     },
     "execution_count": 16,
     "metadata": {},
     "output_type": "execute_result"
    },
    {
     "data": {
      "image/png": "[encoded data removed]",
      "text/plain": [
       "<Figure size 432x288 with 1 Axes>"
      ]
     },
     "metadata": {
      "needs_background": "light"
     },
     "output_type": "display_data"
    }
   ],
   "source": [
    "!wget https://www.dropbox.com/s/3uqleyc3wyz52tr/residuals_261.pkl -P data/\n",
    "\n",
    "import math\n",
    "import pandas as pd\n",
    "\n",
    "residuals = np.load('data/residuals_261.pkl', allow_pickle=True)\n",
    "df=pd.DataFrame(residuals.item())\n",
    "plt.figure()\n",
    "\n",
    "n, bins, patches = plt.hist(df['residuals'], bins=43, color='red', alpha=0.79, rwidth=0.35, range = (-5,5))\n",
    "\n",
    "bin_cntr = (bins[:-1] + bins[1:]) / (2.0) \n",
    "sigma = np.sqrt(np.abs(n))\n",
    "plt.errorbar(x = bin_cntr, y = n, yerr= np.sqrt(np.abs(n)), color=\"blue\")\n",
    "\n",
    "def ret(x, a, b, c, d):\n",
    "     return a*np.exp(-(x-b)**2/(2*c**2))+d\n",
    "\n",
    "params, cov = curve_fit(ret, bin_cntr, n)\n",
    "fitted_gaussian = ret(bin_cntr, *params)\n",
    "plt.plot(bin_cntr, ret(bin_cntr, *params), marker='*',color='yellow')"
   ]
  },
  {
   "cell_type": "markdown",
   "metadata": {},
   "source": [
    "5\\. **Temperatures in Munich**\n",
    "\n",
    "Get the following data file:\n",
    "\n",
    "```bash\n",
    "https://www.dropbox.com/s/7gy9yjl00ymxb8h/munich_temperatures_average_with_bad_data.txt\n",
    "```\n",
    "\n",
    "which gives the temperature in Munich every day for several years.\n",
    "\n",
    "\n",
    "Fit the following function to the data:\n",
    "\n",
    "$$f(t) = a \\cos(2\\pi t + b)+c$$\n",
    "\n",
    "where $t$ is the time in years.\n",
    "\n",
    "- Make a plot of the data and the best-fit model in the range 2008 to 2012.\n",
    "\n",
    "   - What are the best-fit values of the parameters?\n",
    "\n",
    "   - What is the overall average temperature in Munich, and what are the typical daily average values predicted by the model for the coldest and hottest time of year?\n",
    "\n",
    "   - What is the meaning of the $b$ parameter, and what physical sense does it have?\n",
    "\n",
    "\n",
    "- Now fit the data with the function $g(x)$, which has 1 more parameter than $f(x)$.\n",
    "$$g(x) = a \\cos(2\\pi b t + c)+d$$\n",
    "   - What are the RSS for $f(x)$ and $g(x)$?\n",
    "   - Use the Fisher F-test to determine whether the additional parameter is motivated."
   ]
  },
  {
   "cell_type": "code",
   "execution_count": 4,
   "metadata": {},
   "outputs": [
    {
     "name": "stdout",
     "output_type": "stream",
     "text": [
      "--2023-01-19 15:15:52--  https://www.dropbox.com/s/7gy9yjl00ymxb8h/munich_temperatures_average_with_bad_data.txt\n",
      "Resolving www.dropbox.com (www.dropbox.com)... 162.125.69.18\n",
      "Connecting to www.dropbox.com (www.dropbox.com)|162.125.69.18|:443... connected.\n",
      "HTTP request sent, awaiting response... 302 Found\n",
      "Location: /s/raw/7gy9yjl00ymxb8h/munich_temperatures_average_with_bad_data.txt [following]\n",
      "--2023-01-19 15:15:52--  https://www.dropbox.com/s/raw/7gy9yjl00ymxb8h/munich_temperatures_average_with_bad_data.txt\n",
      "Reusing existing connection to www.dropbox.com:443.\n",
      "HTTP request sent, awaiting response... 302 Found\n",
      "Location: https://uc9dad028b1677d154b96d3ea10b.dl.dropboxusercontent.com/cd/0/inline/B002nKLdcK0iQK2GK2hfalcnMTDgovUfgzZ0XnjkilBBLfvjG0eNo0WklO2hwK0tC6BIDPDxsay8JsKRN264hse6q47gxi69h9ryZMzse-0aP_jBhRPUpspOFcYEh8n2IDZBzvUIidSUzH4PY-J_7iaSSRVyVwd7Olq2f7lRhLoqfg/file# [following]\n",
      "--2023-01-19 15:15:53--  https://uc9dad028b1677d154b96d3ea10b.dl.dropboxusercontent.com/cd/0/inline/B002nKLdcK0iQK2GK2hfalcnMTDgovUfgzZ0XnjkilBBLfvjG0eNo0WklO2hwK0tC6BIDPDxsay8JsKRN264hse6q47gxi69h9ryZMzse-0aP_jBhRPUpspOFcYEh8n2IDZBzvUIidSUzH4PY-J_7iaSSRVyVwd7Olq2f7lRhLoqfg/file\n",
      "Resolving uc9dad028b1677d154b96d3ea10b.dl.dropboxusercontent.com (uc9dad028b1677d154b96d3ea10b.dl.dropboxusercontent.com)... 162.125.69.15\n",
      "Connecting to uc9dad028b1677d154b96d3ea10b.dl.dropboxusercontent.com (uc9dad028b1677d154b96d3ea10b.dl.dropboxusercontent.com)|162.125.69.15|:443... connected.\n",
      "HTTP request sent, awaiting response... 200 OK\n",
      "Length: 125482 (123K) [text/plain]\n",
      "Saving to: 'munich_temperatures_average_with_bad_data.txt.27'\n",
      "\n",
      "munich_temperatures 100%[===================>] 122.54K   268KB/s    in 0.5s    \n",
      "\n",
      "2023-01-19 15:15:54 (268 KB/s) - 'munich_temperatures_average_with_bad_data.txt.27' saved [125482/125482]\n",
      "\n"
     ]
    },
    {
     "data": {
      "text/plain": [
       "[<matplotlib.lines.Line2D at 0x7f88201d2940>]"
      ]
     },
     "execution_count": 4,
     "metadata": {},
     "output_type": "execute_result"
    },
    {
     "data": {
      "image/png": "[encoded data removed]",
      "text/plain": [
       "<Figure size 432x288 with 1 Axes>"
      ]
     },
     "metadata": {
      "needs_background": "light"
     },
     "output_type": "display_data"
    },
    {
     "data": {
      "image/png": "[encoded data removed]",
      "text/plain": [
       "<Figure size 432x288 with 1 Axes>"
      ]
     },
     "metadata": {
      "needs_background": "light"
     },
     "output_type": "display_data"
    }
   ],
   "source": [
    "from scipy.optimize import curve_fit\n",
    "import numpy as np\n",
    "import matplotlib.pyplot as plt\n",
    "!wget https://www.dropbox.com/s/7gy9yjl00ymxb8h/munich_temperatures_average_with_bad_data.txt\n",
    "\n",
    "\n",
    "date,temperature = np.loadtxt('/Users/demo/ScientificComputingWithPython2022/munich_temperatures_average_with_bad_data.txt', unpack=True)\n",
    "\n",
    "\n",
    "def ft(t, a, b, c):\n",
    "    f=a * np.cos(2 * np.pi * t + b) + c\n",
    "    return f\n",
    "popt, pcov = curve_fit(ft, date, temperature)\n",
    "plt.figure()\n",
    "plt.plot(date[4600:6300], temperature[4600:6300], '.',color='red')\n",
    "xend = np.linspace(2008, 2012, 100)\n",
    "plt.plot(xend, ft(xend, *popt), color='purple')\n",
    "\n",
    "\n",
    "def gx(t, a, b, c, d):\n",
    "    return a * np.cos(2 * np.pi * t * b + c) + d\n",
    "\n",
    "popt, pcov = curve_fit(gx, date,temperature)\n",
    "plt.figure()\n",
    "plt.plot(date[4700:6300], temperature[4700:6300], '.',color='black')\n",
    "xend = np.linspace(2008, 2012, 100)\n",
    "plt.plot(xend, gx(xend, *popt), color='yellow')"
   ]
  },
  {
   "cell_type": "code",
   "execution_count": null,
   "metadata": {},
   "outputs": [],
   "source": []
  }
 ],
 "metadata": {
  "kernelspec": {
   "display_name": "Python 3 (ipykernel)",
   "language": "python",
   "name": "python3"
  },
  "language_info": {
   "codemirror_mode": {
    "name": "ipython",
    "version": 3
   },
   "file_extension": ".py",
   "mimetype": "text/x-python",
   "name": "python",
   "nbconvert_exporter": "python",
   "pygments_lexer": "ipython3",
   "version": "3.9.12"
  }
 },
 "nbformat": 4,
 "nbformat_minor": 2
}
